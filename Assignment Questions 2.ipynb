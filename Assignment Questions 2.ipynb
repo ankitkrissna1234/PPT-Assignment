{
 "cells": [
  {
   "cell_type": "markdown",
   "id": "72a15c3b-b8b9-4dd0-a2f0-bb5682b8067e",
   "metadata": {},
   "source": [
    "# 1)"
   ]
  },
  {
   "cell_type": "code",
   "execution_count": 1,
   "id": "a5bbb679-684d-4c60-8b34-7060479051d0",
   "metadata": {},
   "outputs": [
    {
     "name": "stdout",
     "output_type": "stream",
     "text": [
      "4\n"
     ]
    }
   ],
   "source": [
    "def arrayPairSum(nums):\n",
    "    nums.sort()\n",
    "    max_sum = 0\n",
    "    \n",
    "    for i in range(0, len(nums), 2):\n",
    "        max_sum += nums[i]\n",
    "    \n",
    "    return max_sum\n",
    "\n",
    "# Example usage:\n",
    "nums = [1, 4, 3, 2]\n",
    "print(arrayPairSum(nums))"
   ]
  },
  {
   "cell_type": "markdown",
   "id": "45480c9e-b9e9-4892-aef3-be55839c9c93",
   "metadata": {},
   "source": [
    "# 2)"
   ]
  },
  {
   "cell_type": "code",
   "execution_count": 2,
   "id": "3a96bcd4-f4f2-49e0-8997-4e0eb4f16996",
   "metadata": {},
   "outputs": [
    {
     "name": "stdout",
     "output_type": "stream",
     "text": [
      "3\n"
     ]
    }
   ],
   "source": [
    "def distributeCandies(candyType):\n",
    "    unique_types = set(candyType)\n",
    "    max_types = min(len(unique_types), len(candyType) // 2)\n",
    "    \n",
    "    return max_types\n",
    "\n",
    "# Example usage:\n",
    "candyType = [1, 1, 2, 2, 3, 3]\n",
    "print(distributeCandies(candyType))"
   ]
  },
  {
   "cell_type": "markdown",
   "id": "33ec240a-4a22-45ce-915d-1d59b0a87ae7",
   "metadata": {},
   "source": [
    "# 3)"
   ]
  },
  {
   "cell_type": "code",
   "execution_count": 3,
   "id": "2fd4ea7e-8543-4e6d-8d2d-3137b0f7b3b8",
   "metadata": {},
   "outputs": [
    {
     "name": "stdout",
     "output_type": "stream",
     "text": [
      "5\n"
     ]
    }
   ],
   "source": [
    "def findLHS(nums):\n",
    "    freq = {}\n",
    "    \n",
    "    # Count number frequencies\n",
    "    for num in nums:\n",
    "        freq[num] = freq.get(num, 0) + 1\n",
    "    \n",
    "    max_length = 0\n",
    "    \n",
    "    # Find longest harmonious subsequence\n",
    "    for num in freq:\n",
    "        if num + 1 in freq:\n",
    "            length = freq[num] + freq[num + 1]\n",
    "            max_length = max(max_length, length)\n",
    "    \n",
    "    return max_length\n",
    "\n",
    "# Example usage:\n",
    "nums = [1, 3, 2, 2, 5, 2, 3, 7]\n",
    "print(findLHS(nums))"
   ]
  },
  {
   "cell_type": "markdown",
   "id": "e146d1bb-6ff8-48a8-b87f-c27c034bb857",
   "metadata": {},
   "source": [
    "# 4)"
   ]
  },
  {
   "cell_type": "code",
   "execution_count": 4,
   "id": "3cbd8d37-d19b-454a-a2b4-34d8a955277b",
   "metadata": {},
   "outputs": [
    {
     "name": "stdout",
     "output_type": "stream",
     "text": [
      "True\n"
     ]
    }
   ],
   "source": [
    "def canPlaceFlowers(flowerbed, n):\n",
    "    count = 0\n",
    "    size = len(flowerbed)\n",
    "    i = 0\n",
    "    \n",
    "    while i < size:\n",
    "        if flowerbed[i] == 0:\n",
    "            if (i == 0 or flowerbed[i-1] == 0) and (i == size-1 or flowerbed[i+1] == 0):\n",
    "                count += 1\n",
    "                flowerbed[i] = 1\n",
    "                i += 1\n",
    "        i += 1\n",
    "    \n",
    "    return count >= n\n",
    "\n",
    "# Example usage:\n",
    "flowerbed = [1, 0, 0, 0, 1]\n",
    "n = 1\n",
    "print(canPlaceFlowers(flowerbed, n))"
   ]
  },
  {
   "cell_type": "markdown",
   "id": "3c5432fc-e3cb-495c-a950-d5c2c7243569",
   "metadata": {},
   "source": [
    "# 5)"
   ]
  },
  {
   "cell_type": "code",
   "execution_count": 5,
   "id": "7d7cd2a6-7e85-4779-92a3-37ca9f7ad013",
   "metadata": {},
   "outputs": [
    {
     "name": "stdout",
     "output_type": "stream",
     "text": [
      "6\n"
     ]
    }
   ],
   "source": [
    "def maximumProduct(nums):\n",
    "    nums.sort()\n",
    "    n = len(nums)\n",
    "    # Scenario 1: Multiply the last three elements\n",
    "    product1 = nums[n-1] * nums[n-2] * nums[n-3]\n",
    "    # Scenario 2: Multiply the first two elements and the last element\n",
    "    product2 = nums[0] * nums[1] * nums[n-1]\n",
    "    \n",
    "    return max(product1, product2)\n",
    "\n",
    "# Example usage:\n",
    "nums = [1, 2, 3]\n",
    "print(maximumProduct(nums))\n"
   ]
  },
  {
   "cell_type": "markdown",
   "id": "c306c1cf-f59a-465b-b8c0-c39edfa3ddf9",
   "metadata": {},
   "source": [
    "# 6)"
   ]
  },
  {
   "cell_type": "code",
   "execution_count": 6,
   "id": "9fba8fc4-f7a4-4160-b1d7-337fb48043e4",
   "metadata": {},
   "outputs": [
    {
     "name": "stdout",
     "output_type": "stream",
     "text": [
      "4\n"
     ]
    }
   ],
   "source": [
    "def search(nums, target):\n",
    "    left, right = 0, len(nums) - 1\n",
    "    \n",
    "    while left <= right:\n",
    "        mid = (left + right) // 2\n",
    "        \n",
    "        if nums[mid] == target:\n",
    "            return mid\n",
    "        elif nums[mid] < target:\n",
    "            left = mid + 1\n",
    "        else:\n",
    "            right = mid - 1\n",
    "    \n",
    "    return -1\n",
    "\n",
    "# Example usage:\n",
    "nums = [-1, 0, 3, 5, 9, 12]\n",
    "target = 9\n",
    "print(search(nums, target))\n"
   ]
  },
  {
   "cell_type": "markdown",
   "id": "c5088f2e-c73d-4ae0-b5c0-4f017645957e",
   "metadata": {},
   "source": [
    "# 7)"
   ]
  },
  {
   "cell_type": "code",
   "execution_count": 7,
   "id": "b188ce0b-2260-4d84-b15e-eed90eab5f08",
   "metadata": {},
   "outputs": [
    {
     "name": "stdout",
     "output_type": "stream",
     "text": [
      "True\n"
     ]
    }
   ],
   "source": [
    "def isMonotonic(nums):\n",
    "    isIncreasing = True\n",
    "    isDecreasing = True\n",
    "    \n",
    "    for i in range(1, len(nums)):\n",
    "        if nums[i] > nums[i-1]:\n",
    "            isDecreasing = False\n",
    "        if nums[i] < nums[i-1]:\n",
    "            isIncreasing = False\n",
    "    \n",
    "    return isIncreasing or isDecreasing\n",
    "\n",
    "# Example usage:\n",
    "nums = [1, 2, 2, 3]\n",
    "print(isMonotonic(nums))\n"
   ]
  },
  {
   "cell_type": "markdown",
   "id": "61edcd04-1814-4ead-b694-8ef9001850f9",
   "metadata": {},
   "source": [
    "# 8)"
   ]
  },
  {
   "cell_type": "code",
   "execution_count": 8,
   "id": "51366cc3-8569-4345-8274-13e1fdf4576c",
   "metadata": {},
   "outputs": [
    {
     "name": "stdout",
     "output_type": "stream",
     "text": [
      "0\n"
     ]
    }
   ],
   "source": [
    "def minimumScore(nums, k):\n",
    "    min_val = min(nums)\n",
    "    max_val = max(nums)\n",
    "    score = max_val - min_val\n",
    "    \n",
    "    if score <= 2 * k:\n",
    "        return score\n",
    "    \n",
    "    mid = (min_val + max_val) / 2\n",
    "    \n",
    "    for i in range(len(nums)):\n",
    "        if nums[i] <= mid:\n",
    "            nums[i] = min(nums[i] + k, mid)\n",
    "        else:\n",
    "            nums[i] = max(nums[i] - k, mid)\n",
    "    \n",
    "    return min(nums) - max(nums)\n",
    "\n",
    "# Example usage:\n",
    "nums = [1]\n",
    "k = 0\n",
    "print(minimumScore(nums, k))"
   ]
  },
  {
   "cell_type": "code",
   "execution_count": null,
   "id": "0a3f702a-9dd4-46f2-8928-60fd952dda1e",
   "metadata": {},
   "outputs": [],
   "source": []
  }
 ],
 "metadata": {
  "kernelspec": {
   "display_name": "Python 3 (ipykernel)",
   "language": "python",
   "name": "python3"
  },
  "language_info": {
   "codemirror_mode": {
    "name": "ipython",
    "version": 3
   },
   "file_extension": ".py",
   "mimetype": "text/x-python",
   "name": "python",
   "nbconvert_exporter": "python",
   "pygments_lexer": "ipython3",
   "version": "3.10.8"
  }
 },
 "nbformat": 4,
 "nbformat_minor": 5
}
