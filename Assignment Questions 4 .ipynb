{
 "cells": [
  {
   "cell_type": "markdown",
   "id": "daced2fd-9f43-4f06-a0c8-de2f0b396e60",
   "metadata": {},
   "source": [
    "# 1)"
   ]
  },
  {
   "cell_type": "code",
   "execution_count": 1,
   "id": "5d5aeb4d-a07f-4ca9-9591-acdab67c7094",
   "metadata": {},
   "outputs": [],
   "source": [
    "def findCommonElements(arr1, arr2, arr3):\n",
    "    set1 = set(arr1)\n",
    "    set2 = set(arr2)\n",
    "    set3 = set(arr3)\n",
    "    \n",
    "    intersection = set1.intersection(set2, set3)\n",
    "    \n",
    "    result = sorted(list(intersection))\n",
    "    \n",
    "    return result"
   ]
  },
  {
   "cell_type": "code",
   "execution_count": 4,
   "id": "71aabc0c-b2ce-431e-a9c8-ad1a68ba86a7",
   "metadata": {},
   "outputs": [
    {
     "name": "stdout",
     "output_type": "stream",
     "text": [
      "[1, 5]\n"
     ]
    }
   ],
   "source": [
    "arr1 = [1, 2, 3, 4, 5]\n",
    "arr2 = [1, 2, 5, 7, 9]\n",
    "arr3 = [1, 3, 4, 5, 8]\n",
    "\n",
    "result = findCommonElements(arr1, arr2, arr3)\n",
    "print(result)  "
   ]
  },
  {
   "cell_type": "markdown",
   "id": "d270ad20-1a80-402c-bd54-d47cd6547a91",
   "metadata": {},
   "source": [
    "# 2)"
   ]
  },
  {
   "cell_type": "code",
   "execution_count": 5,
   "id": "46f50494-b391-4a60-a636-35a629a96a6b",
   "metadata": {},
   "outputs": [],
   "source": [
    "def findDistinct(nums1, nums2):\n",
    "    set1 = set(nums1)\n",
    "    set2 = set(nums2)\n",
    "    \n",
    "    diff1 = set1 - set2\n",
    "    diff2 = set2 - set1\n",
    "    \n",
    "    list1 = list(diff1)\n",
    "    list2 = list(diff2)\n",
    "    \n",
    "    return [list1, list2]"
   ]
  },
  {
   "cell_type": "code",
   "execution_count": 6,
   "id": "3528215c-ffe0-47db-85ac-1930ec582b1a",
   "metadata": {},
   "outputs": [
    {
     "name": "stdout",
     "output_type": "stream",
     "text": [
      "[[1, 3], [4, 6]]\n"
     ]
    }
   ],
   "source": [
    "nums1 = [1, 2, 3]\n",
    "nums2 = [2, 4, 6]\n",
    "\n",
    "result = findDistinct(nums1, nums2)\n",
    "print(result)  # Output: [[1, 3], [4, 6]]"
   ]
  },
  {
   "cell_type": "markdown",
   "id": "39f84f84-9928-485c-8fda-8ee62e36c3ba",
   "metadata": {},
   "source": [
    "# 3)"
   ]
  },
  {
   "cell_type": "code",
   "execution_count": 7,
   "id": "005323ef-bc36-447b-9f31-f56dae34130e",
   "metadata": {},
   "outputs": [],
   "source": [
    "def transposeMatrix(matrix):\n",
    "    rows = len(matrix)\n",
    "    cols = len(matrix[0])\n",
    "    \n",
    "    transpose = [[0] * rows for _ in range(cols)]\n",
    "    \n",
    "    for row in range(rows):\n",
    "        for col in range(cols):\n",
    "            transpose[col][row] = matrix[row][col]\n",
    "    \n",
    "    return transpose"
   ]
  },
  {
   "cell_type": "code",
   "execution_count": 8,
   "id": "35ee85db-4d1b-4fbe-a721-520672c4c6ec",
   "metadata": {},
   "outputs": [
    {
     "name": "stdout",
     "output_type": "stream",
     "text": [
      "[[1, 4, 7], [2, 5, 8], [3, 6, 9]]\n"
     ]
    }
   ],
   "source": [
    "matrix = [[1, 2, 3], [4, 5, 6], [7, 8, 9]]\n",
    "\n",
    "transpose = transposeMatrix(matrix)\n",
    "print(transpose)  # Output: [[1, 4, 7], [2, 5, 8], [3, 6, 9]]"
   ]
  },
  {
   "cell_type": "markdown",
   "id": "952790c5-c0e5-41db-a104-580fea614252",
   "metadata": {},
   "source": [
    "# 4)"
   ]
  },
  {
   "cell_type": "code",
   "execution_count": 9,
   "id": "da4a178f-acfe-4be8-842d-a2c0b98680f5",
   "metadata": {},
   "outputs": [],
   "source": [
    "def arrayPairSum(nums):\n",
    "    nums.sort()\n",
    "    max_sum = 0\n",
    "    \n",
    "    for i in range(0, len(nums), 2):\n",
    "        max_sum += nums[i]\n",
    "    \n",
    "    return max_sum"
   ]
  },
  {
   "cell_type": "code",
   "execution_count": 10,
   "id": "c9d956e1-3e29-43c9-86e1-55e53f94a2bf",
   "metadata": {},
   "outputs": [
    {
     "name": "stdout",
     "output_type": "stream",
     "text": [
      "4\n"
     ]
    }
   ],
   "source": [
    "nums = [1, 4, 3, 2]\n",
    "\n",
    "max_sum = arrayPairSum(nums)\n",
    "print(max_sum)  # Output: 4"
   ]
  },
  {
   "cell_type": "markdown",
   "id": "39e774c1-d0ba-4bbb-826c-60e6fec29e05",
   "metadata": {},
   "source": [
    "# 5)"
   ]
  },
  {
   "cell_type": "code",
   "execution_count": 11,
   "id": "e91ae1e1-1294-44ae-a3ab-edf76155d51c",
   "metadata": {},
   "outputs": [],
   "source": [
    "def arrangeCoins(n):\n",
    "    k = 0\n",
    "    sum_of_coins = 0\n",
    "    \n",
    "    while sum_of_coins + k + 1 <= n:\n",
    "        k += 1\n",
    "        sum_of_coins += k\n",
    "    \n",
    "    return k"
   ]
  },
  {
   "cell_type": "code",
   "execution_count": 12,
   "id": "d8cc8393-0758-46d2-b865-f2b592d00b73",
   "metadata": {},
   "outputs": [
    {
     "name": "stdout",
     "output_type": "stream",
     "text": [
      "2\n"
     ]
    }
   ],
   "source": [
    "n = 5\n",
    "\n",
    "complete_rows = arrangeCoins(n)\n",
    "print(complete_rows)  # Output: 2"
   ]
  },
  {
   "cell_type": "markdown",
   "id": "059a8ca2-d0dd-4b55-ac36-b0d0a4bf34cc",
   "metadata": {},
   "source": [
    "# 6)"
   ]
  },
  {
   "cell_type": "code",
   "execution_count": 13,
   "id": "78b6f267-4f6e-4d3f-92dd-5d596dc5f85a",
   "metadata": {},
   "outputs": [],
   "source": [
    "def sortedSquares(nums):\n",
    "    left = 0\n",
    "    right = len(nums) - 1\n",
    "    result = []\n",
    "    \n",
    "    while left <= right:\n",
    "        if abs(nums[left]) >= abs(nums[right]):\n",
    "            result.append(nums[left] ** 2)\n",
    "            left += 1\n",
    "        else:\n",
    "            result.append(nums[right] ** 2)\n",
    "            right -= 1\n",
    "    \n",
    "    return result[::-1]"
   ]
  },
  {
   "cell_type": "code",
   "execution_count": 14,
   "id": "4ff10690-555d-4166-bcb5-e302641745c8",
   "metadata": {},
   "outputs": [
    {
     "name": "stdout",
     "output_type": "stream",
     "text": [
      "[0, 1, 9, 16, 100]\n"
     ]
    }
   ],
   "source": [
    "nums = [-4, -1, 0, 3, 10]\n",
    "\n",
    "squared_nums = sortedSquares(nums)\n",
    "print(squared_nums)  # Output: [0, 1, 9, 16, 100]"
   ]
  },
  {
   "cell_type": "markdown",
   "id": "46586453-d2de-4105-906c-dd04428e30d3",
   "metadata": {},
   "source": [
    "# 7)"
   ]
  },
  {
   "cell_type": "code",
   "execution_count": 15,
   "id": "d51f2fd0-b95a-4099-9c17-b14f534628bb",
   "metadata": {},
   "outputs": [],
   "source": [
    "def maxCount(m, n, ops):\n",
    "    min_ai = m\n",
    "    min_bi = n\n",
    "    \n",
    "    for op in ops:\n",
    "        min_ai = min(min_ai, op[0])\n",
    "        min_bi = min(min_bi, op[1])\n",
    "    \n",
    "    return min_ai * min_bi"
   ]
  },
  {
   "cell_type": "code",
   "execution_count": 16,
   "id": "abaac319-4366-4d50-a9c7-31da0b8b7a5c",
   "metadata": {},
   "outputs": [
    {
     "name": "stdout",
     "output_type": "stream",
     "text": [
      "4\n"
     ]
    }
   ],
   "source": [
    "m = 3\n",
    "n = 3\n",
    "ops = [[2, 2], [3, 3]]\n",
    "\n",
    "max_integers = maxCount(m, n, ops)\n",
    "print(max_integers)  # Output: 4"
   ]
  },
  {
   "cell_type": "markdown",
   "id": "1eac29e6-93c0-409f-8c7e-eab6e9397b23",
   "metadata": {},
   "source": [
    "# 8)"
   ]
  },
  {
   "cell_type": "code",
   "execution_count": 17,
   "id": "04736a6f-a1d9-4f28-9d4f-e76258f570f7",
   "metadata": {},
   "outputs": [],
   "source": [
    "def shuffle(nums, n):\n",
    "    result = []\n",
    "    \n",
    "    for i in range(n):\n",
    "        result.append(nums[i])\n",
    "        result.append(nums[i + n])\n",
    "    \n",
    "    return result"
   ]
  },
  {
   "cell_type": "code",
   "execution_count": 18,
   "id": "253dedaf-d4b9-4e11-b3d9-28c92547a765",
   "metadata": {},
   "outputs": [
    {
     "name": "stdout",
     "output_type": "stream",
     "text": [
      "[2, 3, 5, 4, 1, 7]\n"
     ]
    }
   ],
   "source": [
    "nums = [2, 5, 1, 3, 4, 7]\n",
    "n = 3\n",
    "\n",
    "arranged_nums = shuffle(nums, n)\n",
    "print(arranged_nums)  # Output: [2, 3, 5, 4, 1, 7]"
   ]
  },
  {
   "cell_type": "code",
   "execution_count": null,
   "id": "1d42a05b-892e-4866-a16f-c55e4a752599",
   "metadata": {},
   "outputs": [],
   "source": []
  }
 ],
 "metadata": {
  "kernelspec": {
   "display_name": "Python 3 (ipykernel)",
   "language": "python",
   "name": "python3"
  },
  "language_info": {
   "codemirror_mode": {
    "name": "ipython",
    "version": 3
   },
   "file_extension": ".py",
   "mimetype": "text/x-python",
   "name": "python",
   "nbconvert_exporter": "python",
   "pygments_lexer": "ipython3",
   "version": "3.10.8"
  }
 },
 "nbformat": 4,
 "nbformat_minor": 5
}
