{
 "cells": [
  {
   "cell_type": "markdown",
   "id": "abb5541b-2072-43af-bf8c-548eefcc19c9",
   "metadata": {},
   "source": [
    "# 1)"
   ]
  },
  {
   "cell_type": "code",
   "execution_count": 1,
   "id": "0e7cfa30-aeae-498f-85ec-f931502d46c5",
   "metadata": {},
   "outputs": [],
   "source": [
    "def reconstruct_permutation(s):\n",
    "    n = len(s)\n",
    "    perm = []\n",
    "    low, high = 0, n\n",
    "\n",
    "    for c in s:\n",
    "        if c == 'I':\n",
    "            perm.append(low)\n",
    "            low += 1\n",
    "        elif c == 'D':\n",
    "            perm.append(high)\n",
    "            high -= 1\n",
    "\n",
    "    perm.append(low if low > 0 else high)\n",
    "\n",
    "    return perm"
   ]
  },
  {
   "cell_type": "code",
   "execution_count": 2,
   "id": "61a52f0a-02b5-4257-aa59-d9582e060b0e",
   "metadata": {},
   "outputs": [],
   "source": [
    "s = \"IDID\""
   ]
  },
  {
   "cell_type": "code",
   "execution_count": 3,
   "id": "3299da34-a47a-4aaa-9d8c-017402a0e3e2",
   "metadata": {},
   "outputs": [
    {
     "data": {
      "text/plain": [
       "[0, 4, 1, 3, 2]"
      ]
     },
     "execution_count": 3,
     "metadata": {},
     "output_type": "execute_result"
    }
   ],
   "source": [
    "reconstruct_permutation(s)"
   ]
  },
  {
   "cell_type": "markdown",
   "id": "93ce9e1a-a30e-4b14-a76c-cbdd3b7abf7f",
   "metadata": {},
   "source": [
    "# 2)"
   ]
  },
  {
   "cell_type": "code",
   "execution_count": 4,
   "id": "a2074a8f-275a-4b57-930e-f6064e8b2391",
   "metadata": {},
   "outputs": [],
   "source": [
    "def search_matrix(matrix, target):\n",
    "    m = len(matrix)\n",
    "    n = len(matrix[0])\n",
    "\n",
    "    left = 0\n",
    "    right = m * n - 1\n",
    "\n",
    "    while left <= right:\n",
    "        mid = (left + right) // 2\n",
    "        row = mid // n\n",
    "        col = mid % n\n",
    "\n",
    "        if matrix[row][col] == target:\n",
    "            return True\n",
    "        elif matrix[row][col] < target:\n",
    "            left = mid + 1\n",
    "        else:\n",
    "            right = mid - 1\n",
    "\n",
    "    return False"
   ]
  },
  {
   "cell_type": "code",
   "execution_count": 6,
   "id": "cc0e9f38-36f6-49d8-8489-fc3ff5618e99",
   "metadata": {},
   "outputs": [],
   "source": [
    "matrix = [[1,3,5,7],[10,11,16,20],[23,30,34,60]]\n",
    "target = 3"
   ]
  },
  {
   "cell_type": "code",
   "execution_count": 7,
   "id": "1762f4bf-524e-4403-be42-66d460349e97",
   "metadata": {},
   "outputs": [
    {
     "data": {
      "text/plain": [
       "True"
      ]
     },
     "execution_count": 7,
     "metadata": {},
     "output_type": "execute_result"
    }
   ],
   "source": [
    "search_matrix(matrix, target)"
   ]
  },
  {
   "cell_type": "markdown",
   "id": "62db558d-8450-4bce-bb9a-f7b4da0da8d1",
   "metadata": {},
   "source": [
    "# 3)"
   ]
  },
  {
   "cell_type": "code",
   "execution_count": 8,
   "id": "9d4aa3ec-d5db-4fb9-83bc-dad9c191a24b",
   "metadata": {},
   "outputs": [],
   "source": [
    "def valid_mountain_array(arr):\n",
    "    n = len(arr)\n",
    "    \n",
    "    if n < 3:\n",
    "        return False\n",
    "\n",
    "    left = 0\n",
    "    right = n - 1\n",
    "\n",
    "    while left < n - 1 and arr[left] < arr[left + 1]:\n",
    "        left += 1\n",
    "\n",
    "    if left == 0 or left == n - 1:\n",
    "        return False\n",
    "\n",
    "    while left < n - 1 and arr[left] > arr[left + 1]:\n",
    "        left += 1\n",
    "\n",
    "    return left == n - 1"
   ]
  },
  {
   "cell_type": "code",
   "execution_count": 9,
   "id": "4f0bd48f-1264-4905-b96c-cde1374e0632",
   "metadata": {},
   "outputs": [],
   "source": [
    " arr = [2,1]"
   ]
  },
  {
   "cell_type": "code",
   "execution_count": 10,
   "id": "d06226a9-f38c-472c-afd8-c783306df4ec",
   "metadata": {},
   "outputs": [
    {
     "data": {
      "text/plain": [
       "False"
      ]
     },
     "execution_count": 10,
     "metadata": {},
     "output_type": "execute_result"
    }
   ],
   "source": [
    "valid_mountain_array(arr)"
   ]
  },
  {
   "cell_type": "markdown",
   "id": "fd44f72f-769a-49da-bbe5-0cf139a0f98b",
   "metadata": {},
   "source": [
    "# 4)"
   ]
  },
  {
   "cell_type": "code",
   "execution_count": 11,
   "id": "4e785eed-796b-4b5b-af00-23ce86a5ddc8",
   "metadata": {},
   "outputs": [],
   "source": [
    "def find_max_length(nums):\n",
    "    max_length = 0\n",
    "    count = 0\n",
    "    prefix_sums = {0: -1}\n",
    "\n",
    "    for i, num in enumerate(nums):\n",
    "        count += 1 if num == 1 else -1\n",
    "\n",
    "        if count in prefix_sums:\n",
    "            length = i - prefix_sums[count]\n",
    "            max_length = max(max_length, length)\n",
    "        else:\n",
    "            prefix_sums[count] = i\n",
    "\n",
    "    return max_length"
   ]
  },
  {
   "cell_type": "code",
   "execution_count": 12,
   "id": "822fe1f6-e7f4-4c54-a3c4-c051f6b6c7de",
   "metadata": {},
   "outputs": [
    {
     "name": "stdout",
     "output_type": "stream",
     "text": [
      "2\n"
     ]
    }
   ],
   "source": [
    "nums = [0, 1]\n",
    "\n",
    "print(find_max_length(nums))"
   ]
  },
  {
   "cell_type": "markdown",
   "id": "45059e4c-3830-4298-9b7c-e6e7392e9f1a",
   "metadata": {},
   "source": [
    "# 5)"
   ]
  },
  {
   "cell_type": "code",
   "execution_count": 13,
   "id": "c7c7545d-3eec-4618-846b-d29aef0cad33",
   "metadata": {},
   "outputs": [],
   "source": [
    "def minimum_product_sum(nums1, nums2):\n",
    "    nums1.sort()\n",
    "    nums2.sort()\n",
    "\n",
    "    n = len(nums1)\n",
    "    min_product_sum = 0\n",
    "\n",
    "    for i in range(n):\n",
    "        min_product_sum += nums1[i] * nums2[n - i - 1]\n",
    "\n",
    "    return min_product_sum"
   ]
  },
  {
   "cell_type": "code",
   "execution_count": 14,
   "id": "f7eadf2f-eefb-4880-9746-4bb208e0f9f2",
   "metadata": {},
   "outputs": [
    {
     "name": "stdout",
     "output_type": "stream",
     "text": [
      "40\n"
     ]
    }
   ],
   "source": [
    "nums1 = [5, 3, 4, 2]\n",
    "nums2 = [4, 2, 2, 5]\n",
    "\n",
    "print(minimum_product_sum(nums1, nums2))"
   ]
  },
  {
   "cell_type": "markdown",
   "id": "37a189ed-9800-443b-9c4b-0978148ed4b4",
   "metadata": {},
   "source": [
    "# 6)"
   ]
  },
  {
   "cell_type": "code",
   "execution_count": 15,
   "id": "76b42e54-989e-42ba-bd78-19609b0faedc",
   "metadata": {},
   "outputs": [],
   "source": [
    "from collections import defaultdict\n",
    "\n",
    "def find_original_array(changed):\n",
    "    count = defaultdict(int)\n",
    "\n",
    "    for num in changed:\n",
    "        count[num] += 1\n",
    "\n",
    "    original = []\n",
    "\n",
    "    for num in changed:\n",
    "        if num % 2 == 0 and count[num // 2] > 0:\n",
    "            original.append(num // 2)\n",
    "            count[num // 2] -= 1\n",
    "        else:\n",
    "            return []\n",
    "\n",
    "    return original"
   ]
  },
  {
   "cell_type": "code",
   "execution_count": 16,
   "id": "b83d86d1-9a74-478e-85d1-b126cb81bd71",
   "metadata": {},
   "outputs": [
    {
     "name": "stdout",
     "output_type": "stream",
     "text": [
      "[]\n"
     ]
    }
   ],
   "source": [
    "changed = [1, 3, 4, 2, 6, 8]\n",
    "\n",
    "print(find_original_array(changed))"
   ]
  },
  {
   "cell_type": "markdown",
   "id": "9a616f04-6494-4b8f-b7da-56969f23554f",
   "metadata": {},
   "source": [
    "# 7)"
   ]
  },
  {
   "cell_type": "code",
   "execution_count": 17,
   "id": "ea780375-c011-4140-857f-51ff0f30e6c1",
   "metadata": {},
   "outputs": [],
   "source": [
    "def generate_matrix(n):\n",
    "    matrix = [[0] * n for _ in range(n)]\n",
    "    top, bottom, left, right = 0, n - 1, 0, n - 1\n",
    "    num = 1\n",
    "\n",
    "    while num <= n * n:\n",
    "        for i in range(left, right + 1):\n",
    "            matrix[top][i] = num\n",
    "            num += 1\n",
    "        top += 1\n",
    "\n",
    "        for i in range(top, bottom + 1):\n",
    "            matrix[i][right] = num\n",
    "            num += 1\n",
    "        right -= 1\n",
    "\n",
    "        for i in range(right, left - 1, -1):\n",
    "            matrix[bottom][i] = num\n",
    "            num += 1\n",
    "        bottom -= 1\n",
    "\n",
    "        for i in range(bottom, top - 1, -1):\n",
    "            matrix[i][left] = num\n",
    "            num += 1\n",
    "        left += 1\n",
    "\n",
    "    return matrix"
   ]
  },
  {
   "cell_type": "code",
   "execution_count": 18,
   "id": "6438dce9-dda4-4c37-b5cb-8600ae887d58",
   "metadata": {},
   "outputs": [
    {
     "name": "stdout",
     "output_type": "stream",
     "text": [
      "[1, 2, 3]\n",
      "[8, 9, 4]\n",
      "[7, 6, 5]\n"
     ]
    }
   ],
   "source": [
    "n = 3\n",
    "\n",
    "result = generate_matrix(n)\n",
    "for row in result:\n",
    "    print(row)"
   ]
  },
  {
   "cell_type": "markdown",
   "id": "dc968f7a-a091-46d4-88f3-0d6bd01f810f",
   "metadata": {},
   "source": [
    "# 8)"
   ]
  },
  {
   "cell_type": "code",
   "execution_count": 19,
   "id": "1f9aa8c5-b43e-4564-a098-71bb01863a7e",
   "metadata": {},
   "outputs": [],
   "source": [
    "def multiply_sparse_matrices(mat1, mat2):\n",
    "    m, k = len(mat1), len(mat1[0])\n",
    "    k, n = len(mat2), len(mat2[0])\n",
    "    result = [[0] * n for _ in range(m)]\n",
    "    mat2_transpose = [[mat2[j][i] for j in range(k)] for i in range(n)]\n",
    "\n",
    "    for i in range(m):\n",
    "        for j in range(n):\n",
    "            for p in range(k):\n",
    "                result[i][j] += mat1[i][p] * mat2_transpose[j][p]\n",
    "\n",
    "    return result"
   ]
  },
  {
   "cell_type": "code",
   "execution_count": 20,
   "id": "36f359f3-41dc-47b2-a34b-3d0193cd58ca",
   "metadata": {},
   "outputs": [
    {
     "name": "stdout",
     "output_type": "stream",
     "text": [
      "[7, 0, 0]\n",
      "[-7, 0, 3]\n"
     ]
    }
   ],
   "source": [
    "mat1 = [[1, 0, 0],\n",
    "        [-1, 0, 3]]\n",
    "\n",
    "mat2 = [[7, 0, 0],\n",
    "        [0, 0, 0],\n",
    "        [0, 0, 1]]\n",
    "\n",
    "result = multiply_sparse_matrices(mat1, mat2)\n",
    "for row in result:\n",
    "    print(row)"
   ]
  },
  {
   "cell_type": "code",
   "execution_count": null,
   "id": "53a57667-4874-4719-8d2d-20b025946580",
   "metadata": {},
   "outputs": [],
   "source": []
  }
 ],
 "metadata": {
  "kernelspec": {
   "display_name": "Python 3 (ipykernel)",
   "language": "python",
   "name": "python3"
  },
  "language_info": {
   "codemirror_mode": {
    "name": "ipython",
    "version": 3
   },
   "file_extension": ".py",
   "mimetype": "text/x-python",
   "name": "python",
   "nbconvert_exporter": "python",
   "pygments_lexer": "ipython3",
   "version": "3.10.8"
  }
 },
 "nbformat": 4,
 "nbformat_minor": 5
}
