{
 "cells": [
  {
   "cell_type": "markdown",
   "id": "861ff042-faa6-430b-93e5-9be834af952c",
   "metadata": {},
   "source": [
    "# 1)"
   ]
  },
  {
   "cell_type": "code",
   "execution_count": 1,
   "id": "e3ba7866-1866-4990-a51f-9c6e349654ff",
   "metadata": {},
   "outputs": [],
   "source": [
    "def construct2DArray(original, m, n):\n",
    "    if len(original) != m * n:\n",
    "        return []\n",
    "    \n",
    "    array_2d = [[0] * n for _ in range(m)]\n",
    "    \n",
    "    for i in range(m * n):\n",
    "        row = i // n\n",
    "        col = i % n\n",
    "        array_2d[row][col] = original[i]\n",
    "    \n",
    "    return array_2d"
   ]
  },
  {
   "cell_type": "code",
   "execution_count": 2,
   "id": "c7d61ef7-1073-408f-be21-ae079bb9b231",
   "metadata": {},
   "outputs": [],
   "source": [
    "original = [1, 2, 3, 4, 5, 6]\n",
    "m = 2\n",
    "n = 3"
   ]
  },
  {
   "cell_type": "code",
   "execution_count": 3,
   "id": "75db5d8d-a11f-4d9b-9ae2-7d439f61d564",
   "metadata": {},
   "outputs": [
    {
     "data": {
      "text/plain": [
       "[[1, 2, 3], [4, 5, 6]]"
      ]
     },
     "execution_count": 3,
     "metadata": {},
     "output_type": "execute_result"
    }
   ],
   "source": [
    "construct2DArray(original, m, n)"
   ]
  },
  {
   "cell_type": "markdown",
   "id": "a806c021-8449-41e2-8b73-f81c6f52639c",
   "metadata": {},
   "source": [
    "# 2)"
   ]
  },
  {
   "cell_type": "code",
   "execution_count": 4,
   "id": "4e75023f-9ade-42a3-91ee-93d8dc1a0bec",
   "metadata": {},
   "outputs": [],
   "source": [
    "def countCompleteRows(n):\n",
    "    completeRows = 0\n",
    "    i = 1\n",
    "\n",
    "    while (i * (i + 1)) / 2 <= n:\n",
    "        completeRows += 1\n",
    "        i += 1\n",
    "\n",
    "    return completeRows"
   ]
  },
  {
   "cell_type": "code",
   "execution_count": 5,
   "id": "51edf0d7-1d6e-44b1-a408-1ba860902d65",
   "metadata": {},
   "outputs": [
    {
     "data": {
      "text/plain": [
       "2"
      ]
     },
     "execution_count": 5,
     "metadata": {},
     "output_type": "execute_result"
    }
   ],
   "source": [
    "countCompleteRows(5)"
   ]
  },
  {
   "cell_type": "markdown",
   "id": "04c80972-ec2f-43d2-b975-56f77a9ea781",
   "metadata": {},
   "source": [
    "# 3)"
   ]
  },
  {
   "cell_type": "code",
   "execution_count": 6,
   "id": "148937d6-9c87-4574-bf3e-ab2211e81979",
   "metadata": {},
   "outputs": [],
   "source": [
    "def sortedSquares(nums):\n",
    "    n = len(nums)\n",
    "    result = [0] * n\n",
    "    left, right = 0, n - 1\n",
    "\n",
    "    for i in range(n - 1, -1, -1):\n",
    "        if abs(nums[left]) >= abs(nums[right]):\n",
    "            result[i] = nums[left] ** 2\n",
    "            left += 1\n",
    "        else:\n",
    "            result[i] = nums[right] ** 2\n",
    "            right -= 1\n",
    "\n",
    "    return result"
   ]
  },
  {
   "cell_type": "code",
   "execution_count": 7,
   "id": "7b97b340-4c0a-4a2d-ab8d-ba9734141c05",
   "metadata": {},
   "outputs": [
    {
     "name": "stdout",
     "output_type": "stream",
     "text": [
      "[0, 1, 9, 16, 100]\n"
     ]
    }
   ],
   "source": [
    "nums = [-4, -1, 0, 3, 10]\n",
    "result = sortedSquares(nums)\n",
    "print(result)"
   ]
  },
  {
   "cell_type": "markdown",
   "id": "c1749546-8e06-449e-b8df-8fdd57967492",
   "metadata": {},
   "source": [
    "# 4)"
   ]
  },
  {
   "cell_type": "code",
   "execution_count": 8,
   "id": "020b629f-8ed1-4dc8-814b-5802cfc3cb42",
   "metadata": {},
   "outputs": [],
   "source": [
    "def findDistinct(nums1, nums2):\n",
    "    set1 = set(nums1)\n",
    "    set2 = set(nums2)\n",
    "\n",
    "    distinct1 = list(set1 - set2)\n",
    "    distinct2 = list(set2 - set1)\n",
    "\n",
    "    return [distinct1, distinct2]"
   ]
  },
  {
   "cell_type": "code",
   "execution_count": 9,
   "id": "7e843926-020b-4991-9ab9-51a42b6b3737",
   "metadata": {},
   "outputs": [
    {
     "name": "stdout",
     "output_type": "stream",
     "text": [
      "[[1, 3], [4, 6]]\n"
     ]
    }
   ],
   "source": [
    "nums1 = [1, 2, 3]\n",
    "nums2 = [2, 4, 6]\n",
    "answer = findDistinct(nums1, nums2)\n",
    "print(answer)"
   ]
  },
  {
   "cell_type": "markdown",
   "id": "61dd9c68-7cce-4baa-bd3a-e34395d4f674",
   "metadata": {},
   "source": [
    "# 5)"
   ]
  },
  {
   "cell_type": "code",
   "execution_count": 10,
   "id": "d1b2d827-d1a8-40fd-9918-c32e6b5e48d2",
   "metadata": {},
   "outputs": [],
   "source": [
    "def distanceValue(arr1, arr2, d):\n",
    "    count = 0\n",
    "\n",
    "    for num in arr1:\n",
    "        found = False\n",
    "\n",
    "        for num2 in arr2:\n",
    "            if abs(num - num2) <= d:\n",
    "                found = True\n",
    "                break\n",
    "\n",
    "        if not found:\n",
    "            count += 1\n",
    "\n",
    "    return count"
   ]
  },
  {
   "cell_type": "code",
   "execution_count": 11,
   "id": "3d034d40-90f6-4b3d-aeaa-80181bac48b1",
   "metadata": {},
   "outputs": [
    {
     "name": "stdout",
     "output_type": "stream",
     "text": [
      "2\n"
     ]
    }
   ],
   "source": [
    "arr1 = [4, 5, 8]\n",
    "arr2 = [10, 9, 1, 8]\n",
    "d = 2\n",
    "distance = distanceValue(arr1, arr2, d)\n",
    "print(distance)"
   ]
  },
  {
   "cell_type": "markdown",
   "id": "843df253-30a9-43de-aa53-77b325436501",
   "metadata": {},
   "source": [
    "# 6)"
   ]
  },
  {
   "cell_type": "code",
   "execution_count": 12,
   "id": "84bf53b7-9ab1-4d7e-823a-63a7171bf689",
   "metadata": {},
   "outputs": [],
   "source": [
    "def findDuplicates(nums):\n",
    "    result = []\n",
    "\n",
    "    for num in nums:\n",
    "        idx = abs(num) - 1\n",
    "\n",
    "        if nums[idx] > 0:\n",
    "            nums[idx] *= -1\n",
    "        else:\n",
    "            result.append(abs(num))\n",
    "\n",
    "    return result"
   ]
  },
  {
   "cell_type": "code",
   "execution_count": 13,
   "id": "4fb49f25-cc7f-4c35-a93a-5fdc26721a04",
   "metadata": {},
   "outputs": [
    {
     "name": "stdout",
     "output_type": "stream",
     "text": [
      "[2, 3]\n"
     ]
    }
   ],
   "source": [
    "nums = [4, 3, 2, 7, 8, 2, 3, 1]\n",
    "duplicates = findDuplicates(nums)\n",
    "print(duplicates)"
   ]
  },
  {
   "cell_type": "markdown",
   "id": "dfa25219-d804-4d0a-90cc-95c5c4b9a9aa",
   "metadata": {},
   "source": [
    "# 7)"
   ]
  },
  {
   "cell_type": "code",
   "execution_count": 14,
   "id": "e4d021c0-6070-42b2-95d3-1ab826d228b6",
   "metadata": {},
   "outputs": [],
   "source": [
    "def findMin(nums):\n",
    "    left, right = 0, len(nums) - 1\n",
    "\n",
    "    while left < right:\n",
    "        mid = left + (right - left) // 2\n",
    "\n",
    "        if nums[mid] > nums[right]:\n",
    "            left = mid + 1\n",
    "        else:\n",
    "            right = mid\n",
    "\n",
    "    return nums[left]"
   ]
  },
  {
   "cell_type": "code",
   "execution_count": 15,
   "id": "61e0a20a-8e50-4353-b5ce-9db618f971db",
   "metadata": {},
   "outputs": [
    {
     "name": "stdout",
     "output_type": "stream",
     "text": [
      "1\n"
     ]
    }
   ],
   "source": [
    "nums = [3, 4, 5, 1, 2]\n",
    "minimum = findMin(nums)\n",
    "print(minimum)"
   ]
  },
  {
   "cell_type": "markdown",
   "id": "d06fed88-2546-4038-b4ed-9db1ba821848",
   "metadata": {},
   "source": [
    "# 8)"
   ]
  },
  {
   "cell_type": "code",
   "execution_count": 18,
   "id": "53ec07e4-67fd-406a-85f2-8df0e020d503",
   "metadata": {},
   "outputs": [],
   "source": [
    "def findOriginalArray(changed):\n",
    "    doubles = set()\n",
    "    changed.sort()\n",
    "\n",
    "    for num in changed:\n",
    "        if num / 2 not in doubles:\n",
    "            doubles.add(num)\n",
    "        else:\n",
    "            doubles.remove(num / 2)\n",
    "\n",
    "    if not doubles:\n",
    "        original = []\n",
    "        for num in changed:\n",
    "            if num / 2 in doubles:\n",
    "                original.append(num / 2)\n",
    "                doubles.remove(num / 2)\n",
    "            else:\n",
    "                return []\n",
    "        return original\n",
    "\n",
    "    return []"
   ]
  },
  {
   "cell_type": "code",
   "execution_count": 20,
   "id": "9477503e-11cc-4138-8cf0-147d1cfa4036",
   "metadata": {},
   "outputs": [
    {
     "name": "stdout",
     "output_type": "stream",
     "text": [
      "[]\n"
     ]
    }
   ],
   "source": [
    "changed = [1, 3, 4, 2, 6, 8]\n",
    "original = findOriginalArray(changed)\n",
    "print(original)"
   ]
  },
  {
   "cell_type": "code",
   "execution_count": null,
   "id": "d8c570b0-dcb2-4a3e-ae9d-9ff61694796f",
   "metadata": {},
   "outputs": [],
   "source": []
  }
 ],
 "metadata": {
  "kernelspec": {
   "display_name": "Python 3 (ipykernel)",
   "language": "python",
   "name": "python3"
  },
  "language_info": {
   "codemirror_mode": {
    "name": "ipython",
    "version": 3
   },
   "file_extension": ".py",
   "mimetype": "text/x-python",
   "name": "python",
   "nbconvert_exporter": "python",
   "pygments_lexer": "ipython3",
   "version": "3.10.8"
  }
 },
 "nbformat": 4,
 "nbformat_minor": 5
}
